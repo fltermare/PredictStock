{
 "cells": [
  {
   "cell_type": "code",
   "execution_count": 1,
   "metadata": {},
   "outputs": [],
   "source": [
    "import twstock\n",
    "import copy\n",
    "import time\n",
    "\n",
    "import datetime\n",
    "import os\n",
    "import pandas as pd\n",
    "from pathlib import Path"
   ]
  },
  {
   "cell_type": "code",
   "execution_count": 2,
   "metadata": {},
   "outputs": [],
   "source": [
    "from core.db import *\n",
    "from core.fetch_data import *"
   ]
  },
  {
   "cell_type": "code",
   "execution_count": null,
   "metadata": {
    "scrolled": true
   },
   "outputs": [],
   "source": [
    "stock_code = '2892'\n",
    "years_list = list(range(2012, 2019))\n",
    "result_df = stock_history(stock_code=stock_code, years=years_list)"
   ]
  },
  {
   "cell_type": "code",
   "execution_count": 4,
   "metadata": {
    "scrolled": true
   },
   "outputs": [
    {
     "name": "stdout",
     "output_type": "stream",
     "text": [
      "[2834] year 2012 exists\n",
      "[2834] year 2013 exists\n",
      "[2834] year 2014 exists\n",
      "[2834] year 2015 exists\n",
      "[2834] year 2016 exists\n",
      "[2834] year 2017 exists\n",
      "get 2834 2018 1\n",
      "get 2834 2018 2\n",
      "get 2834 2018 3\n",
      "get 2834 2018 4\n",
      "get 2834 2018 5\n",
      "get 2834 2018 6\n",
      "failed\n",
      "[2834] year 2012 exists\n",
      "[2834] year 2013 exists\n",
      "[2834] year 2014 exists\n",
      "[2834] year 2015 exists\n",
      "[2834] year 2016 exists\n",
      "[2834] year 2017 exists\n",
      "get 2834 2018 1\n",
      "get 2834 2018 2\n",
      "get 2834 2018 3\n",
      "get 2834 2018 4\n",
      "get 2834 2018 5\n",
      "get 2834 2018 6\n",
      "get 2834 2018 7\n",
      "get 2834 2018 8\n",
      "get 2834 2018 9\n",
      "get 2834 2018 10\n",
      "get 2834 2018 11\n",
      "dataframe2csv saved /home/albert/Documents/PredictStock/history/2834/2018.csv\n",
      "get 5880 2012 1\n",
      "get 5880 2012 2\n",
      "get 5880 2012 3\n",
      "get 5880 2012 4\n",
      "get 5880 2012 5\n",
      "get 5880 2012 6\n",
      "get 5880 2012 7\n",
      "get 5880 2012 8\n",
      "get 5880 2012 9\n",
      "get 5880 2012 10\n",
      "get 5880 2012 11\n",
      "get 5880 2012 12\n",
      "dataframe2csv saved /home/albert/Documents/PredictStock/history/5880/2012.csv\n",
      "get 5880 2013 1\n",
      "get 5880 2013 2\n",
      "get 5880 2013 3\n",
      "get 5880 2013 4\n",
      "get 5880 2013 5\n",
      "get 5880 2013 6\n",
      "get 5880 2013 7\n",
      "get 5880 2013 8\n",
      "get 5880 2013 9\n",
      "get 5880 2013 10\n",
      "get 5880 2013 11\n",
      "get 5880 2013 12\n",
      "dataframe2csv saved /home/albert/Documents/PredictStock/history/5880/2013.csv\n",
      "get 5880 2014 1\n",
      "get 5880 2014 2\n",
      "get 5880 2014 3\n",
      "get 5880 2014 4\n",
      "get 5880 2014 5\n",
      "get 5880 2014 6\n",
      "get 5880 2014 7\n",
      "get 5880 2014 8\n",
      "get 5880 2014 9\n",
      "get 5880 2014 10\n",
      "get 5880 2014 11\n",
      "get 5880 2014 12\n",
      "dataframe2csv saved /home/albert/Documents/PredictStock/history/5880/2014.csv\n",
      "get 5880 2015 1\n",
      "get 5880 2015 2\n",
      "get 5880 2015 3\n",
      "get 5880 2015 4\n",
      "get 5880 2015 5\n",
      "get 5880 2015 6\n",
      "get 5880 2015 7\n",
      "get 5880 2015 8\n",
      "get 5880 2015 9\n",
      "get 5880 2015 10\n",
      "get 5880 2015 11\n",
      "get 5880 2015 12\n",
      "dataframe2csv saved /home/albert/Documents/PredictStock/history/5880/2015.csv\n",
      "get 5880 2016 1\n",
      "get 5880 2016 2\n",
      "get 5880 2016 3\n",
      "get 5880 2016 4\n",
      "get 5880 2016 5\n",
      "get 5880 2016 6\n",
      "get 5880 2016 7\n",
      "get 5880 2016 8\n",
      "get 5880 2016 9\n",
      "get 5880 2016 10\n",
      "get 5880 2016 11\n",
      "get 5880 2016 12\n",
      "dataframe2csv saved /home/albert/Documents/PredictStock/history/5880/2016.csv\n",
      "get 5880 2017 1\n",
      "get 5880 2017 2\n",
      "get 5880 2017 3\n",
      "get 5880 2017 4\n",
      "get 5880 2017 5\n",
      "get 5880 2017 6\n",
      "get 5880 2017 7\n",
      "get 5880 2017 8\n",
      "get 5880 2017 9\n",
      "get 5880 2017 10\n",
      "get 5880 2017 11\n",
      "get 5880 2017 12\n",
      "dataframe2csv saved /home/albert/Documents/PredictStock/history/5880/2017.csv\n",
      "get 5880 2018 1\n",
      "get 5880 2018 2\n",
      "get 5880 2018 3\n",
      "get 5880 2018 4\n",
      "get 5880 2018 5\n",
      "get 5880 2018 6\n",
      "get 5880 2018 7\n",
      "get 5880 2018 8\n",
      "get 5880 2018 9\n",
      "get 5880 2018 10\n",
      "get 5880 2018 11\n",
      "dataframe2csv saved /home/albert/Documents/PredictStock/history/5880/2018.csv\n",
      "[2892] year 2012 exists\n",
      "get 2892 2013 1\n",
      "get 2892 2013 2\n",
      "get 2892 2013 3\n",
      "get 2892 2013 4\n",
      "get 2892 2013 5\n",
      "get 2892 2013 6\n",
      "get 2892 2013 7\n",
      "get 2892 2013 8\n",
      "get 2892 2013 9\n",
      "get 2892 2013 10\n",
      "get 2892 2013 11\n",
      "get 2892 2013 12\n",
      "dataframe2csv saved /home/albert/Documents/PredictStock/history/2892/2013.csv\n",
      "get 2892 2014 1\n",
      "get 2892 2014 2\n",
      "get 2892 2014 3\n",
      "get 2892 2014 4\n",
      "get 2892 2014 5\n",
      "get 2892 2014 6\n",
      "get 2892 2014 7\n",
      "get 2892 2014 8\n",
      "get 2892 2014 9\n",
      "get 2892 2014 10\n",
      "get 2892 2014 11\n",
      "get 2892 2014 12\n",
      "dataframe2csv saved /home/albert/Documents/PredictStock/history/2892/2014.csv\n",
      "get 2892 2015 1\n",
      "get 2892 2015 2\n",
      "get 2892 2015 3\n",
      "get 2892 2015 4\n",
      "get 2892 2015 5\n",
      "get 2892 2015 6\n",
      "get 2892 2015 7\n",
      "get 2892 2015 8\n",
      "get 2892 2015 9\n",
      "get 2892 2015 10\n",
      "failed\n",
      "[2892] year 2012 exists\n",
      "[2892] year 2013 exists\n",
      "[2892] year 2014 exists\n",
      "get 2892 2015 1\n",
      "get 2892 2015 2\n",
      "get 2892 2015 3\n",
      "get 2892 2015 4\n",
      "get 2892 2015 5\n",
      "get 2892 2015 6\n",
      "get 2892 2015 7\n",
      "get 2892 2015 8\n",
      "get 2892 2015 9\n",
      "get 2892 2015 10\n",
      "get 2892 2015 11\n",
      "get 2892 2015 12\n",
      "dataframe2csv saved /home/albert/Documents/PredictStock/history/2892/2015.csv\n",
      "get 2892 2016 1\n",
      "get 2892 2016 2\n",
      "get 2892 2016 3\n",
      "get 2892 2016 4\n",
      "get 2892 2016 5\n",
      "get 2892 2016 6\n",
      "get 2892 2016 7\n",
      "get 2892 2016 8\n",
      "get 2892 2016 9\n",
      "get 2892 2016 10\n",
      "get 2892 2016 11\n",
      "get 2892 2016 12\n",
      "dataframe2csv saved /home/albert/Documents/PredictStock/history/2892/2016.csv\n",
      "get 2892 2017 1\n",
      "get 2892 2017 2\n",
      "get 2892 2017 3\n",
      "get 2892 2017 4\n",
      "failed\n",
      "[2892] year 2012 exists\n",
      "[2892] year 2013 exists\n",
      "[2892] year 2014 exists\n",
      "[2892] year 2015 exists\n",
      "[2892] year 2016 exists\n",
      "get 2892 2017 1\n",
      "get 2892 2017 2\n",
      "get 2892 2017 3\n",
      "get 2892 2017 4\n",
      "get 2892 2017 5\n",
      "get 2892 2017 6\n",
      "get 2892 2017 7\n",
      "get 2892 2017 8\n",
      "get 2892 2017 9\n",
      "get 2892 2017 10\n",
      "get 2892 2017 11\n",
      "get 2892 2017 12\n",
      "dataframe2csv saved /home/albert/Documents/PredictStock/history/2892/2017.csv\n",
      "get 2892 2018 1\n",
      "get 2892 2018 2\n",
      "get 2892 2018 3\n",
      "get 2892 2018 4\n",
      "get 2892 2018 5\n",
      "get 2892 2018 6\n",
      "get 2892 2018 7\n",
      "get 2892 2018 8\n",
      "get 2892 2018 9\n",
      "get 2892 2018 10\n",
      "get 2892 2018 11\n",
      "dataframe2csv saved /home/albert/Documents/PredictStock/history/2892/2018.csv\n"
     ]
    }
   ],
   "source": [
    "stock_codes = ['2834', '5880', '2892']\n",
    "years_list = list(range(2012, 2019))\n",
    "for stock_code in stock_codes:\n",
    "    for i in range(20):\n",
    "        try:\n",
    "            result_df = stock_history(stock_code=stock_code, years=years_list)\n",
    "            break\n",
    "        except:\n",
    "            print('failed')\n",
    "            pass\n",
    "        time.sleep(90)"
   ]
  },
  {
   "cell_type": "markdown",
   "metadata": {},
   "source": [
    "# Transfer data into database"
   ]
  },
  {
   "cell_type": "code",
   "execution_count": 8,
   "metadata": {},
   "outputs": [],
   "source": [
    "db_init()\n",
    "db_init_user_table()"
   ]
  },
  {
   "cell_type": "code",
   "execution_count": 9,
   "metadata": {
    "scrolled": true
   },
   "outputs": [],
   "source": [
    "dump2db()"
   ]
  },
  {
   "cell_type": "markdown",
   "metadata": {},
   "source": [
    "# Dataloader"
   ]
  },
  {
   "cell_type": "code",
   "execution_count": 3,
   "metadata": {
    "scrolled": true
   },
   "outputs": [
    {
     "name": "stderr",
     "output_type": "stream",
     "text": [
      "Using TensorFlow backend.\n"
     ]
    }
   ],
   "source": [
    "from core.dataloader import *"
   ]
  },
  {
   "cell_type": "code",
   "execution_count": 4,
   "metadata": {
    "scrolled": true
   },
   "outputs": [
    {
     "name": "stdout",
     "output_type": "stream",
     "text": [
      "train idxs 3882\n",
      "valid idxs 485\n",
      "test  idxs 486\n",
      "(6, 10)\n"
     ]
    }
   ],
   "source": [
    "stock_codes = ['2834', '5880', '2892']\n",
    "dataloader = DataLoader(stock_codes=stock_codes, seq_len=6)\n",
    "print(dataloader.get_shape())"
   ]
  },
  {
   "cell_type": "code",
   "execution_count": null,
   "metadata": {},
   "outputs": [],
   "source": [
    "data_generator = DataGenerator(dataloader, batch_size=2, mode='train')"
   ]
  },
  {
   "cell_type": "code",
   "execution_count": null,
   "metadata": {
    "scrolled": true
   },
   "outputs": [],
   "source": [
    "a, b = data_generator[1273]\n",
    "print(a.shape)\n",
    "print(b.shape)"
   ]
  },
  {
   "cell_type": "code",
   "execution_count": 2,
   "metadata": {},
   "outputs": [],
   "source": [
    "stock = twstock.realtime.get('2330')"
   ]
  },
  {
   "cell_type": "code",
   "execution_count": 3,
   "metadata": {},
   "outputs": [
    {
     "data": {
      "text/plain": [
       "'台積電'"
      ]
     },
     "execution_count": 3,
     "metadata": {},
     "output_type": "execute_result"
    }
   ],
   "source": [
    "stock['info']['name']"
   ]
  },
  {
   "cell_type": "code",
   "execution_count": 2,
   "metadata": {},
   "outputs": [],
   "source": [
    "stock = twstock.Stock('2330')"
   ]
  },
  {
   "cell_type": "code",
   "execution_count": 9,
   "metadata": {},
   "outputs": [],
   "source": [
    "g = stock.fetch(2018, 12)"
   ]
  },
  {
   "cell_type": "code",
   "execution_count": null,
   "metadata": {},
   "outputs": [],
   "source": [
    "np.random.randint(0, 10)"
   ]
  },
  {
   "cell_type": "code",
   "execution_count": 11,
   "metadata": {},
   "outputs": [
    {
     "data": {
      "text/plain": [
       "[2018]"
      ]
     },
     "execution_count": 11,
     "metadata": {},
     "output_type": "execute_result"
    }
   ],
   "source": [
    "list(range(2018, 2019))"
   ]
  },
  {
   "cell_type": "code",
   "execution_count": 25,
   "metadata": {},
   "outputs": [
    {
     "name": "stdout",
     "output_type": "stream",
     "text": [
      "2018-12-03\n"
     ]
    }
   ],
   "source": [
    "print(g[0].date.date())"
   ]
  },
  {
   "cell_type": "code",
   "execution_count": 20,
   "metadata": {},
   "outputs": [
    {
     "data": {
      "text/plain": [
       "datetime.date(2018, 12, 28)"
      ]
     },
     "execution_count": 20,
     "metadata": {},
     "output_type": "execute_result"
    }
   ],
   "source": [
    "a.date()"
   ]
  },
  {
   "cell_type": "code",
   "execution_count": 2,
   "metadata": {},
   "outputs": [],
   "source": [
    "from core.fetch_data import get_new_data\n",
    "from core.db import update_stock_info\n",
    "import pandas as pd"
   ]
  },
  {
   "cell_type": "code",
   "execution_count": 4,
   "metadata": {
    "scrolled": true
   },
   "outputs": [
    {
     "name": "stdout",
     "output_type": "stream",
     "text": [
      "('2012-01-02', '2018-12-28')\n",
      "('2012-01-02', '2018-12-28')\n",
      "('2012-01-02', '2018-12-28')\n"
     ]
    }
   ],
   "source": [
    "update_stock_info()"
   ]
  },
  {
   "cell_type": "code",
   "execution_count": null,
   "metadata": {},
   "outputs": [],
   "source": []
  }
 ],
 "metadata": {
  "kernelspec": {
   "display_name": "Python 3",
   "language": "python",
   "name": "python3"
  },
  "language_info": {
   "codemirror_mode": {
    "name": "ipython",
    "version": 3
   },
   "file_extension": ".py",
   "mimetype": "text/x-python",
   "name": "python",
   "nbconvert_exporter": "python",
   "pygments_lexer": "ipython3",
   "version": "3.6.6"
  }
 },
 "nbformat": 4,
 "nbformat_minor": 2
}

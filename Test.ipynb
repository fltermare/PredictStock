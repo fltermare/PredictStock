{
 "cells": [
  {
   "cell_type": "code",
   "execution_count": 1,
   "metadata": {},
   "outputs": [],
   "source": [
    "import twstock\n",
    "import copy\n",
    "import time\n",
    "\n",
    "import datetime\n",
    "import os\n",
    "import pandas as pd\n",
    "from pathlib import Path"
   ]
  },
  {
   "cell_type": "code",
   "execution_count": 2,
   "metadata": {},
   "outputs": [],
   "source": [
    "from core.db import *\n",
    "from core.fetch_data import *"
   ]
  },
  {
   "cell_type": "code",
   "execution_count": null,
   "metadata": {
    "scrolled": true
   },
   "outputs": [
    {
     "name": "stdout",
     "output_type": "stream",
     "text": [
      "get 2892 2018 1\n",
      "get 2892 2018 2\n",
      "get 2892 2018 3\n",
      "get 2892 2018 4\n",
      "get 2892 2018 5\n",
      "get 2892 2018 6\n",
      "get 2892 2018 7\n",
      "get 2892 2018 8\n",
      "get 2892 2018 9\n",
      "get 2892 2018 10\n",
      "dataframe2csv saved /home/albert/Documents/Projects/PredictStock/history/2892/2018.csv\n"
     ]
    }
   ],
   "source": [
    "stock_code = '2892'\n",
    "years_list = list(range(2018, 2019))\n",
    "result_df = stock_history(stock_code=stock_code, years=years_list)"
   ]
  },
  {
   "cell_type": "code",
   "execution_count": 4,
   "metadata": {
    "scrolled": true
   },
   "outputs": [
    {
     "name": "stdout",
     "output_type": "stream",
     "text": [
      "[2834] year 2006 exists\n",
      "[2834] year 2007 exists\n",
      "[2834] year 2008 exists\n",
      "[2834] year 2009 exists\n",
      "[2834] year 2010 exists\n",
      "[2834] year 2011 exists\n",
      "[2834] year 2012 exists\n",
      "[2834] year 2013 exists\n",
      "[2834] year 2014 exists\n",
      "[2834] year 2015 exists\n",
      "[2834] year 2016 exists\n",
      "[2834] year 2017 exists\n",
      "get 2834 2018 1\n",
      "get 2834 2018 2\n",
      "get 2834 2018 3\n",
      "get 2834 2018 4\n",
      "get 2834 2018 5\n",
      "get 2834 2018 6\n",
      "get 2834 2018 7\n",
      "get 2834 2018 8\n",
      "get 2834 2018 9\n",
      "get 2834 2018 10\n",
      "dataframe2csv saved /home/albert/Documents/Projects/PredictStock/history/2834/2018.csv\n",
      "[2834] year 2006 exists\n",
      "[2834] year 2007 exists\n",
      "[2834] year 2008 exists\n",
      "[2834] year 2009 exists\n",
      "[2834] year 2010 exists\n",
      "[2834] year 2011 exists\n",
      "[2834] year 2012 exists\n",
      "[2834] year 2013 exists\n",
      "[2834] year 2014 exists\n",
      "[2834] year 2015 exists\n",
      "[2834] year 2016 exists\n",
      "[2834] year 2017 exists\n",
      "get 2834 2018 1\n",
      "get 2834 2018 2\n",
      "get 2834 2018 3\n",
      "get 2834 2018 4\n",
      "get 2834 2018 5\n",
      "get 2834 2018 6\n",
      "get 2834 2018 7\n",
      "get 2834 2018 8\n",
      "get 2834 2018 9\n",
      "get 2834 2018 10\n",
      "dataframe2csv saved /home/albert/Documents/Projects/PredictStock/history/2834/2018.csv\n",
      "[2834] year 2006 exists\n",
      "[2834] year 2007 exists\n",
      "[2834] year 2008 exists\n",
      "[2834] year 2009 exists\n",
      "[2834] year 2010 exists\n",
      "[2834] year 2011 exists\n",
      "[2834] year 2012 exists\n",
      "[2834] year 2013 exists\n",
      "[2834] year 2014 exists\n",
      "[2834] year 2015 exists\n",
      "[2834] year 2016 exists\n",
      "[2834] year 2017 exists\n",
      "get 2834 2018 1\n",
      "get 2834 2018 2\n",
      "get 2834 2018 3\n",
      "get 2834 2018 4\n",
      "get 2834 2018 5\n",
      "get 2834 2018 6\n",
      "get 2834 2018 7\n",
      "get 2834 2018 8\n",
      "get 2834 2018 9\n",
      "get 2834 2018 10\n",
      "dataframe2csv saved /home/albert/Documents/Projects/PredictStock/history/2834/2018.csv\n",
      "[2834] year 2006 exists\n",
      "[2834] year 2007 exists\n",
      "[2834] year 2008 exists\n",
      "[2834] year 2009 exists\n",
      "[2834] year 2010 exists\n",
      "[2834] year 2011 exists\n",
      "[2834] year 2012 exists\n",
      "[2834] year 2013 exists\n",
      "[2834] year 2014 exists\n",
      "[2834] year 2015 exists\n",
      "[2834] year 2016 exists\n",
      "[2834] year 2017 exists\n",
      "get 2834 2018 1\n",
      "get 2834 2018 2\n",
      "get 2834 2018 3\n",
      "get 2834 2018 4\n",
      "get 2834 2018 5\n",
      "get 2834 2018 6\n",
      "get 2834 2018 7\n",
      "get 2834 2018 8\n",
      "get 2834 2018 9\n",
      "get 2834 2018 10\n",
      "dataframe2csv saved /home/albert/Documents/Projects/PredictStock/history/2834/2018.csv\n",
      "[2834] year 2006 exists\n",
      "[2834] year 2007 exists\n",
      "[2834] year 2008 exists\n",
      "[2834] year 2009 exists\n",
      "[2834] year 2010 exists\n",
      "[2834] year 2011 exists\n",
      "[2834] year 2012 exists\n",
      "[2834] year 2013 exists\n",
      "[2834] year 2014 exists\n",
      "[2834] year 2015 exists\n",
      "[2834] year 2016 exists\n",
      "[2834] year 2017 exists\n",
      "get 2834 2018 1\n",
      "get 2834 2018 2\n",
      "get 2834 2018 3\n",
      "get 2834 2018 4\n",
      "get 2834 2018 5\n",
      "get 2834 2018 6\n",
      "get 2834 2018 7\n",
      "get 2834 2018 8\n",
      "get 2834 2018 9\n",
      "get 2834 2018 10\n",
      "dataframe2csv saved /home/albert/Documents/Projects/PredictStock/history/2834/2018.csv\n"
     ]
    },
    {
     "ename": "KeyboardInterrupt",
     "evalue": "",
     "output_type": "error",
     "traceback": [
      "\u001b[0;31m---------------------------------------------------------------------------\u001b[0m",
      "\u001b[0;31mKeyboardInterrupt\u001b[0m                         Traceback (most recent call last)",
      "\u001b[0;32m<ipython-input-4-3e2a79804b75>\u001b[0m in \u001b[0;36m<module>\u001b[0;34m\u001b[0m\n\u001b[1;32m      5\u001b[0m         \u001b[0mprint\u001b[0m\u001b[0;34m(\u001b[0m\u001b[0;34m'failed'\u001b[0m\u001b[0;34m)\u001b[0m\u001b[0;34m\u001b[0m\u001b[0;34m\u001b[0m\u001b[0m\n\u001b[1;32m      6\u001b[0m         \u001b[0;32mpass\u001b[0m\u001b[0;34m\u001b[0m\u001b[0;34m\u001b[0m\u001b[0m\n\u001b[0;32m----> 7\u001b[0;31m     \u001b[0mtime\u001b[0m\u001b[0;34m.\u001b[0m\u001b[0msleep\u001b[0m\u001b[0;34m(\u001b[0m\u001b[0;36m90\u001b[0m\u001b[0;34m)\u001b[0m\u001b[0;34m\u001b[0m\u001b[0;34m\u001b[0m\u001b[0m\n\u001b[0m",
      "\u001b[0;31mKeyboardInterrupt\u001b[0m: "
     ]
    }
   ],
   "source": [
    "for i in range(20):\n",
    "    try:\n",
    "        result_df = stock_history(stock_code='2834', years=years_list)\n",
    "    except:\n",
    "        print('failed')\n",
    "        pass\n",
    "    time.sleep(90)"
   ]
  },
  {
   "cell_type": "markdown",
   "metadata": {},
   "source": [
    "# Transfer data into database"
   ]
  },
  {
   "cell_type": "code",
   "execution_count": 9,
   "metadata": {
    "scrolled": true
   },
   "outputs": [],
   "source": [
    "dump2db()"
   ]
  },
  {
   "cell_type": "markdown",
   "metadata": {},
   "source": [
    "# Dataloader"
   ]
  },
  {
   "cell_type": "code",
   "execution_count": null,
   "metadata": {
    "scrolled": true
   },
   "outputs": [],
   "source": [
    "from core.dataloader import *"
   ]
  },
  {
   "cell_type": "code",
   "execution_count": null,
   "metadata": {
    "scrolled": true
   },
   "outputs": [],
   "source": [
    "stock_codes = ['2834', '5880', '2892']\n",
    "dataloader = DataLoader(stock_codes=stock_codes, seq_len=6)\n",
    "print(dataloader.get_shape())"
   ]
  },
  {
   "cell_type": "code",
   "execution_count": null,
   "metadata": {},
   "outputs": [],
   "source": [
    "data_generator = DataGenerator(dataloader, batch_size=2, mode='train')"
   ]
  },
  {
   "cell_type": "code",
   "execution_count": null,
   "metadata": {
    "scrolled": true
   },
   "outputs": [],
   "source": [
    "a, b = data_generator[1273]\n",
    "print(a.shape)\n",
    "print(b.shape)"
   ]
  },
  {
   "cell_type": "code",
   "execution_count": null,
   "metadata": {},
   "outputs": [],
   "source": [
    "stock = twstock.realtime.get('2330')"
   ]
  },
  {
   "cell_type": "code",
   "execution_count": null,
   "metadata": {},
   "outputs": [],
   "source": [
    "stock['info']['name']"
   ]
  },
  {
   "cell_type": "code",
   "execution_count": null,
   "metadata": {},
   "outputs": [],
   "source": [
    "np.random.randint(0, 10)"
   ]
  },
  {
   "cell_type": "code",
   "execution_count": null,
   "metadata": {},
   "outputs": [],
   "source": []
  }
 ],
 "metadata": {
  "kernelspec": {
   "display_name": "Python 3",
   "language": "python",
   "name": "python3"
  },
  "language_info": {
   "codemirror_mode": {
    "name": "ipython",
    "version": 3
   },
   "file_extension": ".py",
   "mimetype": "text/x-python",
   "name": "python",
   "nbconvert_exporter": "python",
   "pygments_lexer": "ipython3",
   "version": "3.6.6"
  }
 },
 "nbformat": 4,
 "nbformat_minor": 2
}
